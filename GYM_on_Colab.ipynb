{
  "nbformat": 4,
  "nbformat_minor": 0,
  "metadata": {
    "colab": {
      "name": "GYM on Colab.ipynb",
      "version": "0.3.2",
      "provenance": []
    },
    "kernelspec": {
      "name": "python3",
      "display_name": "Python 3"
    },
    "accelerator": "GPU"
  },
  "cells": [
    {
      "metadata": {
        "id": "bRQNxyyYoojc",
        "colab_type": "code",
        "colab": {}
      },
      "cell_type": "code",
      "source": [
        "#remove \" > /dev/null 2>&1\" to see what is going on under the hood\n",
        "!pip install gym pyvirtualdisplay > /dev/null 2>&1\n",
        "!apt-get install -y xvfb python-opengl ffmpeg > /dev/null 2>&1"
      ],
      "execution_count": 0,
      "outputs": []
    },
    {
      "metadata": {
        "id": "ppwOYxoQot0R",
        "colab_type": "code",
        "colab": {
          "base_uri": "https://localhost:8080/",
          "height": 34
        },
        "outputId": "390c360e-c313-41cc-ed30-0b1d0aed743c"
      },
      "cell_type": "code",
      "source": [
        "!apt-get update > /dev/null 2>&1\n",
        "!apt-get install cmake > /dev/null 2>&1\n",
        "!pip install --upgrade setuptools 2>&1\n",
        "!pip install ez_setup > /dev/null 2>&1\n",
        "!pip install gym[atari] > /dev/null 2>&1"
      ],
      "execution_count": 2,
      "outputs": [
        {
          "output_type": "stream",
          "text": [
            "Requirement already up-to-date: setuptools in /usr/local/lib/python3.6/dist-packages (40.8.0)\n"
          ],
          "name": "stdout"
        }
      ]
    },
    {
      "metadata": {
        "id": "bDg2MgPNowGe",
        "colab_type": "code",
        "colab": {}
      },
      "cell_type": "code",
      "source": [
        "import gym\n",
        "from gym import logger as gymlogger\n",
        "from gym.wrappers import Monitor\n",
        "gymlogger.set_level(40) #error only\n",
        "import numpy as np\n",
        "import random\n",
        "import matplotlib\n",
        "import matplotlib.pyplot as plt\n",
        "%matplotlib inline\n",
        "import glob\n",
        "import io\n",
        "import base64\n",
        "from IPython.display import HTML\n",
        "\n",
        "from IPython import display as ipythondisplay"
      ],
      "execution_count": 0,
      "outputs": []
    },
    {
      "metadata": {
        "id": "jnZG3BPVo24N",
        "colab_type": "code",
        "colab": {
          "base_uri": "https://localhost:8080/",
          "height": 54
        },
        "outputId": "275f0924-e080-4ef4-921c-56d59dd1ba7d"
      },
      "cell_type": "code",
      "source": [
        "from pyvirtualdisplay import Display\n",
        "display = Display(visible=0, size=(1400, 900))\n",
        "display.start()"
      ],
      "execution_count": 4,
      "outputs": [
        {
          "output_type": "execute_result",
          "data": {
            "text/plain": [
              "<Display cmd_param=['Xvfb', '-br', '-nolisten', 'tcp', '-screen', '0', '1400x900x24', ':1005'] cmd=['Xvfb', '-br', '-nolisten', 'tcp', '-screen', '0', '1400x900x24', ':1005'] oserror=None return_code=None stdout=\"None\" stderr=\"None\" timeout_happened=False>"
            ]
          },
          "metadata": {
            "tags": []
          },
          "execution_count": 4
        }
      ]
    },
    {
      "metadata": {
        "id": "hEPVwRObo-AU",
        "colab_type": "code",
        "colab": {}
      },
      "cell_type": "code",
      "source": [
        "\"\"\"\n",
        "Utility functions to enable video recording of gym environment and displaying it\n",
        "To enable video, just do \"env = wrap_env(env)\"\"\n",
        "\"\"\"\n",
        "\n",
        "def show_video():\n",
        "  mp4list = glob.glob('video/*.mp4')\n",
        "  if len(mp4list) > 0:\n",
        "    mp4 = mp4list[0]\n",
        "    video = io.open(mp4, 'r+b').read()\n",
        "    encoded = base64.b64encode(video)\n",
        "    ipythondisplay.display(HTML(data='''<video alt=\"test\" autoplay \n",
        "                loop controls style=\"height: 400px;\">\n",
        "                <source src=\"data:video/mp4;base64,{0}\" type=\"video/mp4\" />\n",
        "             </video>'''.format(encoded.decode('ascii'))))\n",
        "  else: \n",
        "    print(\"Could not find video\")\n",
        "    \n",
        "\n",
        "def wrap_env(env):\n",
        "  env = Monitor(env, './video', force=True)\n",
        "  return env"
      ],
      "execution_count": 0,
      "outputs": []
    },
    {
      "metadata": {
        "id": "RYPNfR1vo-X4",
        "colab_type": "code",
        "colab": {
          "base_uri": "https://localhost:8080/",
          "height": 34
        },
        "outputId": "f5d188e9-c325-4ee3-fbd0-38f3da667f88"
      },
      "cell_type": "code",
      "source": [
        "env = wrap_env(gym.make('MountainCar-v0'))\n",
        "env.reset()\n"
      ],
      "execution_count": 16,
      "outputs": [
        {
          "output_type": "execute_result",
          "data": {
            "text/plain": [
              "array([-0.5060135,  0.       ])"
            ]
          },
          "metadata": {
            "tags": []
          },
          "execution_count": 16
        }
      ]
    },
    {
      "metadata": {
        "id": "lNirTC9_pDL1",
        "colab_type": "code",
        "colab": {
          "base_uri": "https://localhost:8080/",
          "height": 34
        },
        "outputId": "2548b4ed-5db5-4e65-98cc-eadf3bf14cda"
      },
      "cell_type": "code",
      "source": [
        "#check out the Mountain Car action space!\n",
        "print(env.action_space)"
      ],
      "execution_count": 17,
      "outputs": [
        {
          "output_type": "stream",
          "text": [
            "Discrete(3)\n"
          ],
          "name": "stdout"
        }
      ]
    },
    {
      "metadata": {
        "id": "Lg-zDlV3pDgm",
        "colab_type": "code",
        "colab": {
          "base_uri": "https://localhost:8080/",
          "height": 2198
        },
        "outputId": "3beae089-33a0-4088-e6ca-09a3c8d714fa"
      },
      "cell_type": "code",
      "source": [
        "def QLearning(env, learning, discount, epsilon, min_eps, episodes):\n",
        "    # Determine size of discretized state space\n",
        "    num_states = (env.observation_space.high - env.observation_space.low)*\\\n",
        "                    np.array([10, 100])\n",
        "    num_states = np.round(num_states, 0).astype(int) + 1\n",
        "    \n",
        "    # Initialize Q table\n",
        "    Q = np.random.uniform(low = -1, high = 1, \n",
        "                          size = (num_states[0], num_states[1], \n",
        "                                  env.action_space.n))\n",
        "    \n",
        "    # Initialize variables to track rewards\n",
        "    reward_list = []\n",
        "    ave_reward_list = []\n",
        "    \n",
        "    # Calculate episodic reduction in epsilon\n",
        "    reduction = (epsilon - min_eps)/episodes\n",
        "    \n",
        "    # Run Q learning algorithm\n",
        "    for i in range(episodes):\n",
        "        # Initialize parameters\n",
        "        done = False\n",
        "        tot_reward, reward = 0,0\n",
        "        state = env.reset()\n",
        "        \n",
        "        # Discretize state\n",
        "        state_adj = (state - env.observation_space.low)*np.array([10, 100])\n",
        "        state_adj = np.round(state_adj, 0).astype(int)\n",
        "    \n",
        "        while done != True:   \n",
        "            # Render environment for last five episodes\n",
        "            if i >= (episodes - 20):\n",
        "                env.render()\n",
        "                \n",
        "            # Determine next action - epsilon greedy strategy\n",
        "            if np.random.random() < 1 - epsilon:\n",
        "                action = np.argmax(Q[state_adj[0], state_adj[1]]) \n",
        "            else:\n",
        "                action = np.random.randint(0, env.action_space.n)\n",
        "                \n",
        "            # Get next state and reward\n",
        "            state2, reward, done, info = env.step(action) \n",
        "            \n",
        "            # Discretize state2\n",
        "            state2_adj = (state2 - env.observation_space.low)*np.array([10, 100])\n",
        "            state2_adj = np.round(state2_adj, 0).astype(int)\n",
        "            \n",
        "            #Allow for terminal states\n",
        "            if done and state2[0] >= 0.5:\n",
        "                Q[state_adj[0], state_adj[1], action] = reward\n",
        "                \n",
        "            # Adjust Q value for current state\n",
        "            else:\n",
        "                delta = learning*(reward + \n",
        "                                 discount*np.max(Q[state2_adj[0], \n",
        "                                                   state2_adj[1]]) - \n",
        "                                 Q[state_adj[0], state_adj[1],action])\n",
        "                Q[state_adj[0], state_adj[1],action] += delta\n",
        "                                     \n",
        "            # Update variables\n",
        "            tot_reward += reward\n",
        "            state_adj = state2_adj\n",
        "        \n",
        "        # Decay epsilon\n",
        "        if epsilon > min_eps:\n",
        "            epsilon -= reduction\n",
        "        \n",
        "        # Track rewards\n",
        "        reward_list.append(tot_reward)\n",
        "        \n",
        "        if (i+1) % 100 == 0:\n",
        "            ave_reward = np.mean(reward_list)\n",
        "            ave_reward_list.append(ave_reward)\n",
        "            reward_list = []\n",
        "            \n",
        "        if (i+1) % 100 == 0:    \n",
        "            print('Episode {} Average Reward: {}'.format(i+1, ave_reward))\n",
        "            \n",
        "    env.close()\n",
        "    \n",
        "    return ave_reward_list\n",
        "\n",
        "# Run Q-learning algorithm\n",
        "rewards = QLearning(env, 0.2, 0.9, 0.8, 0, 10000)\n",
        "\n",
        "# Plot Rewards\n",
        "plt.plot(100*(np.arange(len(rewards)) + 1), rewards)\n",
        "plt.xlabel('Episodes')\n",
        "plt.ylabel('Average Reward')\n",
        "plt.title('Average Reward vs Episodes')\n",
        "plt.savefig('rewards.jpg') \n",
        "plt.show()\n",
        "plt.close()\n",
        "show_video()"
      ],
      "execution_count": 18,
      "outputs": [
        {
          "output_type": "stream",
          "text": [
            "Episode 100 Average Reward: -200.0\n",
            "Episode 200 Average Reward: -200.0\n",
            "Episode 300 Average Reward: -200.0\n",
            "Episode 400 Average Reward: -200.0\n",
            "Episode 500 Average Reward: -200.0\n",
            "Episode 600 Average Reward: -200.0\n",
            "Episode 700 Average Reward: -200.0\n",
            "Episode 800 Average Reward: -200.0\n",
            "Episode 900 Average Reward: -200.0\n",
            "Episode 1000 Average Reward: -200.0\n",
            "Episode 1100 Average Reward: -200.0\n",
            "Episode 1200 Average Reward: -200.0\n",
            "Episode 1300 Average Reward: -200.0\n",
            "Episode 1400 Average Reward: -200.0\n",
            "Episode 1500 Average Reward: -200.0\n",
            "Episode 1600 Average Reward: -200.0\n",
            "Episode 1700 Average Reward: -200.0\n",
            "Episode 1800 Average Reward: -200.0\n",
            "Episode 1900 Average Reward: -200.0\n",
            "Episode 2000 Average Reward: -200.0\n",
            "Episode 2100 Average Reward: -200.0\n",
            "Episode 2200 Average Reward: -200.0\n",
            "Episode 2300 Average Reward: -200.0\n",
            "Episode 2400 Average Reward: -200.0\n",
            "Episode 2500 Average Reward: -200.0\n",
            "Episode 2600 Average Reward: -200.0\n",
            "Episode 2700 Average Reward: -200.0\n",
            "Episode 2800 Average Reward: -200.0\n",
            "Episode 2900 Average Reward: -200.0\n",
            "Episode 3000 Average Reward: -200.0\n",
            "Episode 3100 Average Reward: -200.0\n",
            "Episode 3200 Average Reward: -200.0\n",
            "Episode 3300 Average Reward: -200.0\n",
            "Episode 3400 Average Reward: -200.0\n",
            "Episode 3500 Average Reward: -200.0\n",
            "Episode 3600 Average Reward: -200.0\n",
            "Episode 3700 Average Reward: -200.0\n",
            "Episode 3800 Average Reward: -200.0\n",
            "Episode 3900 Average Reward: -200.0\n",
            "Episode 4000 Average Reward: -200.0\n",
            "Episode 4100 Average Reward: -200.0\n",
            "Episode 4200 Average Reward: -200.0\n",
            "Episode 4300 Average Reward: -200.0\n",
            "Episode 4400 Average Reward: -200.0\n",
            "Episode 4500 Average Reward: -200.0\n",
            "Episode 4600 Average Reward: -200.0\n",
            "Episode 4700 Average Reward: -200.0\n",
            "Episode 4800 Average Reward: -200.0\n",
            "Episode 4900 Average Reward: -199.71\n",
            "Episode 5000 Average Reward: -200.0\n",
            "Episode 5100 Average Reward: -199.78\n",
            "Episode 5200 Average Reward: -200.0\n",
            "Episode 5300 Average Reward: -200.0\n",
            "Episode 5400 Average Reward: -199.72\n",
            "Episode 5500 Average Reward: -199.99\n",
            "Episode 5600 Average Reward: -200.0\n",
            "Episode 5700 Average Reward: -200.0\n",
            "Episode 5800 Average Reward: -200.0\n",
            "Episode 5900 Average Reward: -200.0\n",
            "Episode 6000 Average Reward: -200.0\n",
            "Episode 6100 Average Reward: -199.93\n",
            "Episode 6200 Average Reward: -199.57\n",
            "Episode 6300 Average Reward: -199.24\n",
            "Episode 6400 Average Reward: -199.21\n",
            "Episode 6500 Average Reward: -199.1\n",
            "Episode 6600 Average Reward: -200.0\n",
            "Episode 6700 Average Reward: -200.0\n",
            "Episode 6800 Average Reward: -197.92\n",
            "Episode 6900 Average Reward: -194.46\n",
            "Episode 7000 Average Reward: -199.63\n",
            "Episode 7100 Average Reward: -199.61\n",
            "Episode 7200 Average Reward: -197.63\n",
            "Episode 7300 Average Reward: -200.0\n",
            "Episode 7400 Average Reward: -199.96\n",
            "Episode 7500 Average Reward: -199.67\n",
            "Episode 7600 Average Reward: -198.83\n",
            "Episode 7700 Average Reward: -198.69\n",
            "Episode 7800 Average Reward: -199.39\n",
            "Episode 7900 Average Reward: -198.7\n",
            "Episode 8000 Average Reward: -198.4\n",
            "Episode 8100 Average Reward: -198.92\n",
            "Episode 8200 Average Reward: -199.57\n",
            "Episode 8300 Average Reward: -199.93\n",
            "Episode 8400 Average Reward: -199.68\n",
            "Episode 8500 Average Reward: -184.59\n",
            "Episode 8600 Average Reward: -192.73\n",
            "Episode 8700 Average Reward: -195.93\n",
            "Episode 8800 Average Reward: -199.35\n",
            "Episode 8900 Average Reward: -197.77\n",
            "Episode 9000 Average Reward: -192.97\n",
            "Episode 9100 Average Reward: -184.51\n",
            "Episode 9200 Average Reward: -189.02\n",
            "Episode 9300 Average Reward: -184.14\n",
            "Episode 9400 Average Reward: -183.57\n",
            "Episode 9500 Average Reward: -197.46\n",
            "Episode 9600 Average Reward: -185.42\n",
            "Episode 9700 Average Reward: -184.63\n",
            "Episode 9800 Average Reward: -168.45\n",
            "Episode 9900 Average Reward: -173.41\n",
            "Episode 10000 Average Reward: -161.72\n"
          ],
          "name": "stdout"
        },
        {
          "output_type": "display_data",
          "data": {
            "text/html": [
              "<video alt=\"test\" autoplay \n",
              "                loop controls style=\"height: 400px;\">\n",
              "                <source src=\"data:video/mp4;base64,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\" type=\"video/mp4\" />\n",
              "             </video>"
            ],
            "text/plain": [
              "<IPython.core.display.HTML object>"
            ]
          },
          "metadata": {
            "tags": []
          }
        }
      ]
    },
    {
      "metadata": {
        "id": "kt96ne9C0OA2",
        "colab_type": "code",
        "colab": {}
      },
      "cell_type": "code",
      "source": [
        ""
      ],
      "execution_count": 0,
      "outputs": []
    }
  ]
}